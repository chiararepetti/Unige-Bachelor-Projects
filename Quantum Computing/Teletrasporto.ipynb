{
  "nbformat": 4,
  "nbformat_minor": 0,
  "metadata": {
    "colab": {
      "provenance": []
    },
    "kernelspec": {
      "name": "python3",
      "display_name": "Python 3"
    },
    "language_info": {
      "name": "python"
    }
  },
  "cells": [
    {
      "cell_type": "code",
      "source": [
        "!pip install qiskit"
      ],
      "metadata": {
        "colab": {
          "base_uri": "https://localhost:8080/"
        },
        "id": "1V-1HYZzZcY4",
        "outputId": "74dd9b2a-255a-40f1-c20a-2f850bdb163b"
      },
      "execution_count": 1,
      "outputs": [
        {
          "output_type": "stream",
          "name": "stdout",
          "text": [
            "Collecting qiskit\n",
            "  Downloading qiskit-1.2.0-cp38-abi3-manylinux_2_17_x86_64.manylinux2014_x86_64.whl.metadata (12 kB)\n",
            "Collecting rustworkx>=0.15.0 (from qiskit)\n",
            "  Downloading rustworkx-0.15.1-cp38-abi3-manylinux_2_17_x86_64.manylinux2014_x86_64.whl.metadata (9.9 kB)\n",
            "Requirement already satisfied: numpy<3,>=1.17 in /usr/local/lib/python3.10/dist-packages (from qiskit) (1.26.4)\n",
            "Requirement already satisfied: scipy>=1.5 in /usr/local/lib/python3.10/dist-packages (from qiskit) (1.13.1)\n",
            "Requirement already satisfied: sympy>=1.3 in /usr/local/lib/python3.10/dist-packages (from qiskit) (1.13.2)\n",
            "Collecting dill>=0.3 (from qiskit)\n",
            "  Downloading dill-0.3.8-py3-none-any.whl.metadata (10 kB)\n",
            "Requirement already satisfied: python-dateutil>=2.8.0 in /usr/local/lib/python3.10/dist-packages (from qiskit) (2.8.2)\n",
            "Collecting stevedore>=3.0.0 (from qiskit)\n",
            "  Downloading stevedore-5.3.0-py3-none-any.whl.metadata (2.3 kB)\n",
            "Requirement already satisfied: typing-extensions in /usr/local/lib/python3.10/dist-packages (from qiskit) (4.12.2)\n",
            "Collecting symengine>=0.11 (from qiskit)\n",
            "  Downloading symengine-0.11.0-cp310-cp310-manylinux_2_12_x86_64.manylinux2010_x86_64.whl.metadata (1.2 kB)\n",
            "Requirement already satisfied: six>=1.5 in /usr/local/lib/python3.10/dist-packages (from python-dateutil>=2.8.0->qiskit) (1.16.0)\n",
            "Collecting pbr>=2.0.0 (from stevedore>=3.0.0->qiskit)\n",
            "  Downloading pbr-6.0.0-py2.py3-none-any.whl.metadata (1.3 kB)\n",
            "Requirement already satisfied: mpmath<1.4,>=1.1.0 in /usr/local/lib/python3.10/dist-packages (from sympy>=1.3->qiskit) (1.3.0)\n",
            "Downloading qiskit-1.2.0-cp38-abi3-manylinux_2_17_x86_64.manylinux2014_x86_64.whl (4.8 MB)\n",
            "\u001b[2K   \u001b[90m━━━━━━━━━━━━━━━━━━━━━━━━━━━━━━━━━━━━━━━━\u001b[0m \u001b[32m4.8/4.8 MB\u001b[0m \u001b[31m23.0 MB/s\u001b[0m eta \u001b[36m0:00:00\u001b[0m\n",
            "\u001b[?25hDownloading dill-0.3.8-py3-none-any.whl (116 kB)\n",
            "\u001b[2K   \u001b[90m━━━━━━━━━━━━━━━━━━━━━━━━━━━━━━━━━━━━━━━━\u001b[0m \u001b[32m116.3/116.3 kB\u001b[0m \u001b[31m5.6 MB/s\u001b[0m eta \u001b[36m0:00:00\u001b[0m\n",
            "\u001b[?25hDownloading rustworkx-0.15.1-cp38-abi3-manylinux_2_17_x86_64.manylinux2014_x86_64.whl (2.0 MB)\n",
            "\u001b[2K   \u001b[90m━━━━━━━━━━━━━━━━━━━━━━━━━━━━━━━━━━━━━━━━\u001b[0m \u001b[32m2.0/2.0 MB\u001b[0m \u001b[31m23.1 MB/s\u001b[0m eta \u001b[36m0:00:00\u001b[0m\n",
            "\u001b[?25hDownloading stevedore-5.3.0-py3-none-any.whl (49 kB)\n",
            "\u001b[2K   \u001b[90m━━━━━━━━━━━━━━━━━━━━━━━━━━━━━━━━━━━━━━━━\u001b[0m \u001b[32m49.7/49.7 kB\u001b[0m \u001b[31m2.7 MB/s\u001b[0m eta \u001b[36m0:00:00\u001b[0m\n",
            "\u001b[?25hDownloading symengine-0.11.0-cp310-cp310-manylinux_2_12_x86_64.manylinux2010_x86_64.whl (39.4 MB)\n",
            "\u001b[2K   \u001b[90m━━━━━━━━━━━━━━━━━━━━━━━━━━━━━━━━━━━━━━━━\u001b[0m \u001b[32m39.4/39.4 MB\u001b[0m \u001b[31m12.6 MB/s\u001b[0m eta \u001b[36m0:00:00\u001b[0m\n",
            "\u001b[?25hDownloading pbr-6.0.0-py2.py3-none-any.whl (107 kB)\n",
            "\u001b[2K   \u001b[90m━━━━━━━━━━━━━━━━━━━━━━━━━━━━━━━━━━━━━━━━\u001b[0m \u001b[32m107.5/107.5 kB\u001b[0m \u001b[31m3.8 MB/s\u001b[0m eta \u001b[36m0:00:00\u001b[0m\n",
            "\u001b[?25hInstalling collected packages: symengine, rustworkx, pbr, dill, stevedore, qiskit\n",
            "Successfully installed dill-0.3.8 pbr-6.0.0 qiskit-1.2.0 rustworkx-0.15.1 stevedore-5.3.0 symengine-0.11.0\n"
          ]
        }
      ]
    },
    {
      "cell_type": "code",
      "source": [
        "!pip install qiskit_aer"
      ],
      "metadata": {
        "colab": {
          "base_uri": "https://localhost:8080/"
        },
        "id": "BQAq-hp3ZVuE",
        "outputId": "8ec0e886-f4e9-43b1-97ca-6d370ccdf476"
      },
      "execution_count": 2,
      "outputs": [
        {
          "output_type": "stream",
          "name": "stdout",
          "text": [
            "Collecting qiskit_aer\n",
            "  Downloading qiskit_aer-0.15.0-cp310-cp310-manylinux_2_17_x86_64.manylinux2014_x86_64.whl.metadata (8.0 kB)\n",
            "Requirement already satisfied: qiskit>=1.1.0 in /usr/local/lib/python3.10/dist-packages (from qiskit_aer) (1.2.0)\n",
            "Requirement already satisfied: numpy>=1.16.3 in /usr/local/lib/python3.10/dist-packages (from qiskit_aer) (1.26.4)\n",
            "Requirement already satisfied: scipy>=1.0 in /usr/local/lib/python3.10/dist-packages (from qiskit_aer) (1.13.1)\n",
            "Requirement already satisfied: psutil>=5 in /usr/local/lib/python3.10/dist-packages (from qiskit_aer) (5.9.5)\n",
            "Requirement already satisfied: rustworkx>=0.15.0 in /usr/local/lib/python3.10/dist-packages (from qiskit>=1.1.0->qiskit_aer) (0.15.1)\n",
            "Requirement already satisfied: sympy>=1.3 in /usr/local/lib/python3.10/dist-packages (from qiskit>=1.1.0->qiskit_aer) (1.13.2)\n",
            "Requirement already satisfied: dill>=0.3 in /usr/local/lib/python3.10/dist-packages (from qiskit>=1.1.0->qiskit_aer) (0.3.8)\n",
            "Requirement already satisfied: python-dateutil>=2.8.0 in /usr/local/lib/python3.10/dist-packages (from qiskit>=1.1.0->qiskit_aer) (2.8.2)\n",
            "Requirement already satisfied: stevedore>=3.0.0 in /usr/local/lib/python3.10/dist-packages (from qiskit>=1.1.0->qiskit_aer) (5.3.0)\n",
            "Requirement already satisfied: typing-extensions in /usr/local/lib/python3.10/dist-packages (from qiskit>=1.1.0->qiskit_aer) (4.12.2)\n",
            "Requirement already satisfied: symengine>=0.11 in /usr/local/lib/python3.10/dist-packages (from qiskit>=1.1.0->qiskit_aer) (0.11.0)\n",
            "Requirement already satisfied: six>=1.5 in /usr/local/lib/python3.10/dist-packages (from python-dateutil>=2.8.0->qiskit>=1.1.0->qiskit_aer) (1.16.0)\n",
            "Requirement already satisfied: pbr>=2.0.0 in /usr/local/lib/python3.10/dist-packages (from stevedore>=3.0.0->qiskit>=1.1.0->qiskit_aer) (6.0.0)\n",
            "Requirement already satisfied: mpmath<1.4,>=1.1.0 in /usr/local/lib/python3.10/dist-packages (from sympy>=1.3->qiskit>=1.1.0->qiskit_aer) (1.3.0)\n",
            "Downloading qiskit_aer-0.15.0-cp310-cp310-manylinux_2_17_x86_64.manylinux2014_x86_64.whl (12.3 MB)\n",
            "\u001b[2K   \u001b[90m━━━━━━━━━━━━━━━━━━━━━━━━━━━━━━━━━━━━━━━━\u001b[0m \u001b[32m12.3/12.3 MB\u001b[0m \u001b[31m21.8 MB/s\u001b[0m eta \u001b[36m0:00:00\u001b[0m\n",
            "\u001b[?25hInstalling collected packages: qiskit_aer\n",
            "Successfully installed qiskit_aer-0.15.0\n"
          ]
        }
      ]
    },
    {
      "cell_type": "markdown",
      "source": [
        "# Teletrasporto Quantistico"
      ],
      "metadata": {
        "id": "a7XmoukIZqly"
      }
    },
    {
      "cell_type": "markdown",
      "source": [
        "Il teletrasporto quantistico è una tecnica che consente di trasferire un qubit di informazione senza alterare o misurare direttamente lo stato. Questa tecnologia è cruciale nel contesto dell'informatica quantistica, poiché permette di spostare informazioni quantistiche in modo sicuro ed efficiente, preservando la coerenza dello stato originale.\n",
        "\n",
        "Nel mondo classico, la copia esatta di uno stato non è complicata, ma, nella meccanica quantistica, la situazione è diversa a causa dell'impossibilità di duplicare perfettamente uno stato quantistico sconosciuto (teorema di no-cloning).\n",
        "\n",
        "Il teletrasporto quantistico aggira questo limite, utilizzando l'entanglement quantistico e la comunicazione classica per ricostruire esattamente lo stato di un qubit in una posizione differente.\n",
        "\n",
        "Il programma presentato in questo progetto è scritto in Python utilizzando la libreria Qiskit. Simula il processo di teletrasporto quantistico sfruttando una coppia di qubit entangled, permettendo di trasferire lo stato quantistico di un qubit iniziale (qubit in possesso di Alice) a un altro qubit delocalizzato (qubit Bob).\n",
        "In questa simulazione, verranno esplorati i concetti chiave del teletrasporto quantistico, inclusa la preparazione dello stato, la creazione di coppie entangled, la misurazione e la correzione degli stati quantistici.\n",
        "\n",
        "\n",
        "\n",
        "### Librerie utilizzate nel progetto"
      ],
      "metadata": {
        "id": "wQqTucxKZtp5"
      }
    },
    {
      "cell_type": "code",
      "source": [
        "from qiskit import QuantumCircuit\n",
        "from qiskit_aer import Aer\n",
        "from qiskit.visualization import plot_histogram\n",
        "from qiskit import transpile, assemble\n",
        "from numpy import sqrt\n",
        "import math\n",
        "from qiskit.quantum_info import state_fidelity, Statevector, partial_trace"
      ],
      "metadata": {
        "id": "7JVhYi_iZwIt"
      },
      "execution_count": 3,
      "outputs": []
    },
    {
      "cell_type": "markdown",
      "source": [
        "Il codice Python importa le seguenti librerie essenziali:\n",
        "\n",
        "*   QuantumCircuit per la creazione e manipolazione dei circuiti quantistici\n",
        "*   Aer per la simulazione dei circuiti quantistici\n",
        "*   execute e plot_histogram per l'esecuzione delle simulazioni e la visualizzazione dei risultati"
      ],
      "metadata": {
        "id": "jC_U_2quyj0x"
      }
    },
    {
      "cell_type": "markdown",
      "source": [
        "### Inizializzazione del Circuito Quantistico\n",
        "Il circuito è progettato per operare su tre qubit e tre bit classici:\n",
        "*   Qubit 0: rappresenta lo stato quantistico che Alice vuole teletrasportare\n",
        "*   Qubit 1: è uno dei qubit entangled che sarà misurato da Alice\n",
        "*   Qubit 2: è l’altro qubit entangled che Bob utilizzerà per ricostruire lo stato quantistico originale di Alice\n",
        "\n",
        "Il circuito inizia con tre qubit inizializzati nello stato $∣0\\rangle$ e tre bit classici inizializzati a 0."
      ],
      "metadata": {
        "id": "HjSXI6mlZypk"
      }
    },
    {
      "cell_type": "code",
      "source": [
        "qc = QuantumCircuit(3, 3)"
      ],
      "metadata": {
        "id": "wqDvNethZ677"
      },
      "execution_count": 4,
      "outputs": []
    },
    {
      "cell_type": "markdown",
      "source": [
        "### Creazione dell'entanglement tra qubit\n",
        "Il primo passo per il teletrasporto è creare un’entanglement tra Qubit 1 e Qubit 2. Questo viene realizzato attraverso l'applicazione di una porta Hadamard $H$ sul Qubit 1, seguita da una porta CNOT con Qubit 1 come controllo e Qubit 2 come target. Il risultato è un sistema entangled descritto dallo stato di Bell:\n",
        "\n",
        "\n",
        "$|\\text{q}_1\\text{q}_2\\rangle = |\\beta_{00}\\rangle = \\frac{1}{\\sqrt{2}}(|00\\rangle + |11\\rangle )$\n"
      ],
      "metadata": {
        "id": "o4u2TXj-Z_Bu"
      }
    },
    {
      "cell_type": "code",
      "source": [
        "# Applica la porta Hadamard al qubit 1\n",
        "qc.h(1)\n",
        "\n",
        "# Applica la porta CNOT con il qubit 1 come controllo e il qubit 2 come target\n",
        "qc.cx(1, 2)"
      ],
      "metadata": {
        "colab": {
          "base_uri": "https://localhost:8080/"
        },
        "id": "CdmGhI3ZaPeO",
        "outputId": "e5c179e4-50b3-4745-f628-dc451c4d3623"
      },
      "execution_count": 5,
      "outputs": [
        {
          "output_type": "execute_result",
          "data": {
            "text/plain": [
              "<qiskit.circuit.instructionset.InstructionSet at 0x7ff03077f6a0>"
            ]
          },
          "metadata": {},
          "execution_count": 5
        }
      ]
    },
    {
      "cell_type": "markdown",
      "source": [
        "### Preparazione dello Stato del Qubit da Teletrasportare\n",
        "Alice desidera teletrasportare uno stato quantistico arbitrario $|\\psi\\rangle$. Questo stato può essere generalmente rappresentato come una combinazione lineare degli stati base $|0\\rangle$ e $|1\\rangle$:\n",
        "$|q_0\\rangle = |\\psi\\rangle = \\alpha|0\\rangle + \\beta|1\\rangle$ \\\n",
        "con i coefficienti complessi $\\alpha$ e $\\beta$ che soddisfano la condizione di normalizzazione $|α|^2+|\\beta|^2=1$.\n",
        "\n",
        "Nel caso in esame, i valori scelti per $\\alpha$ e $\\beta$ sono tali che $\\alpha^2 = 0.9$ e $\\beta^2 = 0.1$. Esplicitamente, possiamo scrivere:\n",
        "$|\\psi\\rangle=\\sqrt{0.9}|0\\rangle + \\sqrt{0.1}|1\\rangle$ \\\n",
        "\n",
        "Per visualizzare e manipolare lo stato $|\\psi\\rangle$, è utile esprimere $\\alpha$ e $\\beta$ in termini di angoli $\\theta$ e $\\phi$, utilizzando le funzioni seno e coseno (si osserva che seno e coseno soddisfano naturalmente la condizione di normalizzazione):\n",
        "$|\\psi\\rangle =  \\cos\\left(\\frac{\\theta}{2}\\right)|0\\rangle + \\sin\\left(\\frac{\\theta}{2}\\right)e^{i\\phi}|1\\rangle$\n",
        "\n",
        "In questa rappresentazione $\\theta$ è l'angolo polare (determina la distribuzione tra i due stati base) mentre $\\phi$ è l'angolo azimutale che rappresenta la fase relativa tra le due componenti.\n",
        "\n",
        "Nel caso in cui $\\alpha = \\sqrt{0.9}$ e $\\beta = \\sqrt{0.1}$ , l'angolo\n",
        "$\\theta$ è determinato da $cos(\\frac{\\theta}{2}) = \\sqrt{0.9}$ e $sin(\\frac{\\theta}{2}) = \\sqrt{0.1}$\n",
        "Per $\\phi$ possiamo scegliere un valore arbitrario poiché $\\beta$ è reale e positivo: ad esempio, possiamo fissare $\\phi=0$.\n",
        "\n",
        "Lo stato quantistico $|\\psi\\rangle$ può essere rappresentato sulla sfera di Bloch, una rappresentazione geometrica tridimensionale degli stati quantistici puri. Ogni stato del qubit corrisponde a un punto sulla superficie della sfera unitaria. Le coordinate cartesiane $(x,y,z)$ del punto sulla sfera di Bloch sono ottenute calcolando le medie degli operatori di Pauli $X,Y,Z$ sullo stato $|\\psi\\rangle$:\n",
        "\n",
        "$x= ⟨\\psi|X|\\psi\\rangle= cos\\phi sin\\theta $\n",
        "\n",
        "$y= ⟨\\psi|Y|\\psi\\rangle= sin\\phi sin\\theta$\n",
        "\n",
        "$z= ⟨\\psi|Z|\\psi\\rangle= cos\\theta$\n"
      ],
      "metadata": {
        "id": "tBd6-ePNaXUN"
      }
    },
    {
      "cell_type": "code",
      "source": [
        "from google.colab import files\n",
        "\n",
        "# Carica l'immagine dal PC\n",
        "uploaded = files.upload()\n",
        "from IPython.display import display, HTML\n",
        "\n",
        "# Nome dell'immagine caricata\n",
        "image_name = \"sfera.jpg\"\n",
        "\n",
        "from IPython.display import Image, display\n",
        "\n",
        "# Visualizza l'immagine\n",
        "display(Image(filename='sfera.png'))\n"
      ],
      "metadata": {
        "colab": {
          "base_uri": "https://localhost:8080/",
          "height": 795
        },
        "id": "K8yfb5-q7zyP",
        "outputId": "48b1a640-0f67-4870-906f-4f83e9cacc58"
      },
      "execution_count": 6,
      "outputs": [
        {
          "output_type": "display_data",
          "data": {
            "text/plain": [
              "<IPython.core.display.HTML object>"
            ],
            "text/html": [
              "\n",
              "     <input type=\"file\" id=\"files-c66df141-969f-414c-ac3f-686bb0dba9a8\" name=\"files[]\" multiple disabled\n",
              "        style=\"border:none\" />\n",
              "     <output id=\"result-c66df141-969f-414c-ac3f-686bb0dba9a8\">\n",
              "      Upload widget is only available when the cell has been executed in the\n",
              "      current browser session. Please rerun this cell to enable.\n",
              "      </output>\n",
              "      <script>// Copyright 2017 Google LLC\n",
              "//\n",
              "// Licensed under the Apache License, Version 2.0 (the \"License\");\n",
              "// you may not use this file except in compliance with the License.\n",
              "// You may obtain a copy of the License at\n",
              "//\n",
              "//      http://www.apache.org/licenses/LICENSE-2.0\n",
              "//\n",
              "// Unless required by applicable law or agreed to in writing, software\n",
              "// distributed under the License is distributed on an \"AS IS\" BASIS,\n",
              "// WITHOUT WARRANTIES OR CONDITIONS OF ANY KIND, either express or implied.\n",
              "// See the License for the specific language governing permissions and\n",
              "// limitations under the License.\n",
              "\n",
              "/**\n",
              " * @fileoverview Helpers for google.colab Python module.\n",
              " */\n",
              "(function(scope) {\n",
              "function span(text, styleAttributes = {}) {\n",
              "  const element = document.createElement('span');\n",
              "  element.textContent = text;\n",
              "  for (const key of Object.keys(styleAttributes)) {\n",
              "    element.style[key] = styleAttributes[key];\n",
              "  }\n",
              "  return element;\n",
              "}\n",
              "\n",
              "// Max number of bytes which will be uploaded at a time.\n",
              "const MAX_PAYLOAD_SIZE = 100 * 1024;\n",
              "\n",
              "function _uploadFiles(inputId, outputId) {\n",
              "  const steps = uploadFilesStep(inputId, outputId);\n",
              "  const outputElement = document.getElementById(outputId);\n",
              "  // Cache steps on the outputElement to make it available for the next call\n",
              "  // to uploadFilesContinue from Python.\n",
              "  outputElement.steps = steps;\n",
              "\n",
              "  return _uploadFilesContinue(outputId);\n",
              "}\n",
              "\n",
              "// This is roughly an async generator (not supported in the browser yet),\n",
              "// where there are multiple asynchronous steps and the Python side is going\n",
              "// to poll for completion of each step.\n",
              "// This uses a Promise to block the python side on completion of each step,\n",
              "// then passes the result of the previous step as the input to the next step.\n",
              "function _uploadFilesContinue(outputId) {\n",
              "  const outputElement = document.getElementById(outputId);\n",
              "  const steps = outputElement.steps;\n",
              "\n",
              "  const next = steps.next(outputElement.lastPromiseValue);\n",
              "  return Promise.resolve(next.value.promise).then((value) => {\n",
              "    // Cache the last promise value to make it available to the next\n",
              "    // step of the generator.\n",
              "    outputElement.lastPromiseValue = value;\n",
              "    return next.value.response;\n",
              "  });\n",
              "}\n",
              "\n",
              "/**\n",
              " * Generator function which is called between each async step of the upload\n",
              " * process.\n",
              " * @param {string} inputId Element ID of the input file picker element.\n",
              " * @param {string} outputId Element ID of the output display.\n",
              " * @return {!Iterable<!Object>} Iterable of next steps.\n",
              " */\n",
              "function* uploadFilesStep(inputId, outputId) {\n",
              "  const inputElement = document.getElementById(inputId);\n",
              "  inputElement.disabled = false;\n",
              "\n",
              "  const outputElement = document.getElementById(outputId);\n",
              "  outputElement.innerHTML = '';\n",
              "\n",
              "  const pickedPromise = new Promise((resolve) => {\n",
              "    inputElement.addEventListener('change', (e) => {\n",
              "      resolve(e.target.files);\n",
              "    });\n",
              "  });\n",
              "\n",
              "  const cancel = document.createElement('button');\n",
              "  inputElement.parentElement.appendChild(cancel);\n",
              "  cancel.textContent = 'Cancel upload';\n",
              "  const cancelPromise = new Promise((resolve) => {\n",
              "    cancel.onclick = () => {\n",
              "      resolve(null);\n",
              "    };\n",
              "  });\n",
              "\n",
              "  // Wait for the user to pick the files.\n",
              "  const files = yield {\n",
              "    promise: Promise.race([pickedPromise, cancelPromise]),\n",
              "    response: {\n",
              "      action: 'starting',\n",
              "    }\n",
              "  };\n",
              "\n",
              "  cancel.remove();\n",
              "\n",
              "  // Disable the input element since further picks are not allowed.\n",
              "  inputElement.disabled = true;\n",
              "\n",
              "  if (!files) {\n",
              "    return {\n",
              "      response: {\n",
              "        action: 'complete',\n",
              "      }\n",
              "    };\n",
              "  }\n",
              "\n",
              "  for (const file of files) {\n",
              "    const li = document.createElement('li');\n",
              "    li.append(span(file.name, {fontWeight: 'bold'}));\n",
              "    li.append(span(\n",
              "        `(${file.type || 'n/a'}) - ${file.size} bytes, ` +\n",
              "        `last modified: ${\n",
              "            file.lastModifiedDate ? file.lastModifiedDate.toLocaleDateString() :\n",
              "                                    'n/a'} - `));\n",
              "    const percent = span('0% done');\n",
              "    li.appendChild(percent);\n",
              "\n",
              "    outputElement.appendChild(li);\n",
              "\n",
              "    const fileDataPromise = new Promise((resolve) => {\n",
              "      const reader = new FileReader();\n",
              "      reader.onload = (e) => {\n",
              "        resolve(e.target.result);\n",
              "      };\n",
              "      reader.readAsArrayBuffer(file);\n",
              "    });\n",
              "    // Wait for the data to be ready.\n",
              "    let fileData = yield {\n",
              "      promise: fileDataPromise,\n",
              "      response: {\n",
              "        action: 'continue',\n",
              "      }\n",
              "    };\n",
              "\n",
              "    // Use a chunked sending to avoid message size limits. See b/62115660.\n",
              "    let position = 0;\n",
              "    do {\n",
              "      const length = Math.min(fileData.byteLength - position, MAX_PAYLOAD_SIZE);\n",
              "      const chunk = new Uint8Array(fileData, position, length);\n",
              "      position += length;\n",
              "\n",
              "      const base64 = btoa(String.fromCharCode.apply(null, chunk));\n",
              "      yield {\n",
              "        response: {\n",
              "          action: 'append',\n",
              "          file: file.name,\n",
              "          data: base64,\n",
              "        },\n",
              "      };\n",
              "\n",
              "      let percentDone = fileData.byteLength === 0 ?\n",
              "          100 :\n",
              "          Math.round((position / fileData.byteLength) * 100);\n",
              "      percent.textContent = `${percentDone}% done`;\n",
              "\n",
              "    } while (position < fileData.byteLength);\n",
              "  }\n",
              "\n",
              "  // All done.\n",
              "  yield {\n",
              "    response: {\n",
              "      action: 'complete',\n",
              "    }\n",
              "  };\n",
              "}\n",
              "\n",
              "scope.google = scope.google || {};\n",
              "scope.google.colab = scope.google.colab || {};\n",
              "scope.google.colab._files = {\n",
              "  _uploadFiles,\n",
              "  _uploadFilesContinue,\n",
              "};\n",
              "})(self);\n",
              "</script> "
            ]
          },
          "metadata": {}
        },
        {
          "output_type": "stream",
          "name": "stdout",
          "text": [
            "Saving sfera.png to sfera.png\n"
          ]
        },
        {
          "output_type": "display_data",
          "data": {
            "image/png": "[encoded data removed]",
            "text/plain": [
              "<IPython.core.display.Image object>"
            ]
          },
          "metadata": {}
        }
      ]
    },
    {
      "cell_type": "markdown",
      "source": [
        "Considerando $cos(\\frac{\\theta}{2}) = \\sqrt{0.9}$, $sin(\\frac{\\theta}{2}) = \\sqrt{0.1}$ e $\\phi=0$, le coordinate del punto $|\\psi\\rangle$ sulla sfera di Bloch possono essere calcolate come segue:\n",
        "\n",
        "$x=sin\\theta = 2sin(\\frac{\\theta}{2})cos(\\frac{\\theta}{2})= 0.6$\n",
        "\n",
        "$y= 0$\n",
        "\n",
        "$z= cos\\theta= cos^2 (\\frac{\\theta}{2})-sin^2 (\\frac{\\theta}{2})=  0.8$\n",
        "\n",
        "Nella simulazione, il Qubit 0 viene preparato nello stato $|\\psi\\rangle$ utilizzando porte di rotazione che manipolano l'angolo $\\theta$ e la fase $\\phi$ per ottenere la configurazione desiderata. Nello specifico, essendo che $\\phi=0$, è utilizzata una porta $R_y$ per effettuare una rotazione di un angolo $\\theta$."
      ],
      "metadata": {
        "id": "IJyRc8Y28gqj"
      }
    },
    {
      "cell_type": "code",
      "source": [
        "# Calcolo dell'angolo theta per l'operazione Ry: |psi>= sin(theta/2)e^iphi|0>+cos(theta/2)|1>\n",
        "theta = 2 * math.acos(sqrt(0.9))\n",
        "\n",
        "# Applicazione della rotazione Ry al qubit 0\n",
        "qc.ry(theta, 0)"
      ],
      "metadata": {
        "colab": {
          "base_uri": "https://localhost:8080/"
        },
        "id": "qbamu533ajl_",
        "outputId": "0f3b09cc-18a5-4880-a158-482c298c1187"
      },
      "execution_count": 7,
      "outputs": [
        {
          "output_type": "execute_result",
          "data": {
            "text/plain": [
              "<qiskit.circuit.instructionset.InstructionSet at 0x7ff03031c700>"
            ]
          },
          "metadata": {},
          "execution_count": 7
        }
      ]
    },
    {
      "cell_type": "markdown",
      "source": [
        "### Applicazione delle Porte Quantistiche\n",
        "Per eseguire il teletrasporto, Alice applica una porta CNOT tra il Qubit 0 e il Qubit 1, seguita da una porta Hadamard sul Qubit 0. Dopo queste operazioni, il sistema complessivo (Qubit 0, 1 e 2) si trova in uno stato entangled."
      ],
      "metadata": {
        "id": "hun5LDV-autv"
      }
    },
    {
      "cell_type": "code",
      "source": [
        "# Applicazione della porta CNOT con il qubit 0 come controllo e il qubit 1 come target |psi0> -CNOT- |psi1>\n",
        "qc.cx(0, 1)\n",
        "\n",
        "# Applicazione della porta Hadamard al qubit 0 (ho |psi2>)\n",
        "qc.h(0)"
      ],
      "metadata": {
        "colab": {
          "base_uri": "https://localhost:8080/"
        },
        "id": "jK_Nfvn3a9Nq",
        "outputId": "d37cf0e1-b2f4-43a2-840c-ef66fc55a8af"
      },
      "execution_count": 8,
      "outputs": [
        {
          "output_type": "execute_result",
          "data": {
            "text/plain": [
              "<qiskit.circuit.instructionset.InstructionSet at 0x7ff03031c3a0>"
            ]
          },
          "metadata": {},
          "execution_count": 8
        }
      ]
    },
    {
      "cell_type": "markdown",
      "source": [
        "### Misurazione dei Qubit e Correzioni\n",
        "Alice misura Qubit 0 e Qubit 1, registrando i risultati nei corrispondenti bit classici. Questi risultati vengono inviati a Bob attraverso un canale classico."
      ],
      "metadata": {
        "id": "6TVdr-MwbCIo"
      }
    },
    {
      "cell_type": "code",
      "source": [
        "# Misura dei qubit 0 e 1 e memorizzazione dei risultati nei bit classici 0 e 1\n",
        "qc.measure([0, 1], [0, 1])"
      ],
      "metadata": {
        "colab": {
          "base_uri": "https://localhost:8080/"
        },
        "id": "SUgtDdvzbJ64",
        "outputId": "b373e53b-58b2-4d83-cd40-b4f3c1609cc7"
      },
      "execution_count": 9,
      "outputs": [
        {
          "output_type": "execute_result",
          "data": {
            "text/plain": [
              "<qiskit.circuit.instructionset.InstructionSet at 0x7ff03031c2b0>"
            ]
          },
          "metadata": {},
          "execution_count": 9
        }
      ]
    },
    {
      "cell_type": "markdown",
      "source": [
        "### Operazioni correttive\n",
        "\n",
        "Alice comunica a Bob i risultati delle sua misure. Bob, in base ai risultati delle misure di Alice, applica di volta in volta le correzioni necessarie sul Qubit 2:\n",
        "\n",
        "Se entrambi i bit classici sono 0, nessuna operazione è necessaria.\n",
        "Se il primo bit è 1, Bob applica una porta $Z$.\n",
        "Se il secondo bit è 1, Bob applica una porta $X$.\n",
        "Queste operazioni garantiscono che Qubit 2 di Bob si trovi nello stato $|\\psi\\rangle$"
      ],
      "metadata": {
        "id": "yHPTBvMybcEl"
      }
    },
    {
      "cell_type": "code",
      "source": [
        "# Applicazione delle operazioni correttive in base ai risultati delle misure di Alice\n",
        "\n",
        "# Caso 10: applicare la porta Z\n",
        "qc.z(2).c_if(qc.clbits[0], 1)  # Se il primo bit classico (risultato di Alice) è 1, applica Z\n",
        "\n",
        "# Caso 01: applicare la porta X\n",
        "qc.x(2).c_if(qc.clbits[1], 1)  # Se il secondo bit classico (risultato di Alice) è 1, applica X\n",
        "\n",
        "# Caso 11: applicare prima Z poi X\n"
      ],
      "metadata": {
        "colab": {
          "base_uri": "https://localhost:8080/"
        },
        "id": "ojgpIJr3bqYh",
        "outputId": "ba7270e0-70be-4908-8098-81a1942a7423"
      },
      "execution_count": 10,
      "outputs": [
        {
          "output_type": "execute_result",
          "data": {
            "text/plain": [
              "<qiskit.circuit.instructionset.InstructionSet at 0x7ff04f887ca0>"
            ]
          },
          "metadata": {},
          "execution_count": 10
        }
      ]
    },
    {
      "cell_type": "markdown",
      "source": [
        "### Simulazione del Circuito e Analisi dei Risultati\n",
        "Il circuito viene eseguito su un simulatore di stato quantistico fornito da Qiskit.\n",
        "\n",
        "Per verificare che il teletrasporto quantistico abbia funzionato correttamente, occorre confrontare lo stato finale del qubit teletrasportato (Qubit 2) con lo stato originale $|\\psi\\rangle$. Una singola misura sul qubit 2 non è sufficiente per confermare che lo stato $|\\psi\\rangle$ è stato correttamente teletrasportato, poiché la misura stessa è probabilistica.\n",
        "In simulazioni con Qiskit, è possibile calcolare direttamente la \"fidelity\" tra lo stato finale di Bob e lo stato originario.\n",
        "\n",
        "La fedeltà (\"fidelity\") è una misura della \"somiglianza\" tra due stati quantistici. Se la fedeltà è 1, significa che i due stati sono identici, indicando che il processo di teletrasporto è stato eseguito con successo."
      ],
      "metadata": {
        "id": "N78u-jn8bw2m"
      }
    },
    {
      "cell_type": "code",
      "source": [
        "# Circuito eseguito usando il simulatore di vettori di stato\n",
        "backend = Aer.get_backend('statevector_simulator')\n",
        "t_qc = transpile(qc, backend)\n",
        "result = backend.run(t_qc).result()\n",
        "\n",
        "# Vettore di stato finale del sistema\n",
        "final_state = result.get_statevector()\n",
        "\n",
        "# Isolamento dello stato del qubit 2 (qubit di Bob) usando la traccia parziale\n",
        "final_state_qubit2 = partial_trace(final_state, [0, 1])\n",
        "\n",
        "# Definizione dello stato originale |ψ⟩ (lo stato iniziale che Alice voleva teletrasportare)\n",
        "original_psi = Statevector([0.9**0.5, 0.1**0.5])\n",
        "\n",
        "# Fedeltà tra lo stato finale di Bob e lo stato originale\n",
        "fidelity = state_fidelity(final_state_qubit2, original_psi)\n",
        "print(f\"Fedelta' tra lo stato teletrasportato e l'originale: {fidelity}\")\n"
      ],
      "metadata": {
        "colab": {
          "base_uri": "https://localhost:8080/"
        },
        "id": "mTOSNvl9cDcu",
        "outputId": "32ac36ea-320b-4a4a-d3c5-ecf79377f4f9"
      },
      "execution_count": 11,
      "outputs": [
        {
          "output_type": "stream",
          "name": "stdout",
          "text": [
            "Fedelta' tra lo stato teletrasportato e l'originale: 0.9999999999999998\n"
          ]
        }
      ]
    },
    {
      "cell_type": "markdown",
      "source": [
        "### Istogramma\n",
        "L'istogramma delle misurazioni ottenute fornisce una visualizzazione immediata del processo di teletrasporto."
      ],
      "metadata": {
        "id": "FKCY9ZnZcIrl"
      }
    },
    {
      "cell_type": "code",
      "source": [
        "# Misurazione dei qubit rilevanti (Qubit 0, 1 e 2)\n",
        "qc.measure([0, 1, 2], [0, 1, 2])\n",
        "\n",
        "# Il simulatore QASM esegue le misurazioni\n",
        "qasm_backend = Aer.get_backend('qasm_simulator')\n",
        "t_qc = transpile(qc, qasm_backend)\n",
        "qasm_result = qasm_backend.run(t_qc).result()\n",
        "\n",
        "# Risultati delle misurazioni\n",
        "counts = qasm_result.get_counts()\n",
        "\n",
        "# Rappresentazione dell'istogramma con i risultati a 3 cifre\n",
        "plot_histogram(counts)"
      ],
      "metadata": {
        "colab": {
          "base_uri": "https://localhost:8080/",
          "height": 446
        },
        "id": "KmpRniptcLWY",
        "outputId": "1606fcc4-71aa-4bc5-fe79-1fe45526625c"
      },
      "execution_count": 12,
      "outputs": [
        {
          "output_type": "execute_result",
          "data": {
            "text/plain": [
              "<Figure size 640x480 with 1 Axes>"
            ],
            "image/png": "[encoded data removed]"
          },
          "metadata": {},
          "execution_count": 12
        }
      ]
    },
    {
      "cell_type": "markdown",
      "source": [
        "### Analisi dei risultati\n",
        "\n",
        "Vengono eseguite numerose misurazioni del circuito per raccogliere un numero significativo di dati statistici (1024 di default). Ogni volta che si esegue una misura, Alice ottiene uno dei quattro possibili risultati sui suoi due qubit: 00, 01, 10, o 11.\n",
        "Sulla base del risultato ottenuto da Alice, Bob applica le correzioni necessarie al suo qubit per ottenere lo stato quantistico che si vuole teletrasportare. Avendo già verificato il corretto funzionamento del meccanismo di teletrasporto, è possibile, misurando lo stato del qubit di Bob, ottenere una stima dei coefficienti $\\alpha$ e $\\beta$.\n",
        "\n",
        "Si vuole determinare la probabilità che la misura di Bob dia come risultato 0 o 1. La probabilità per ciascuno dei due casi ($p_0$ e $p_1$ rispettivamente) viene calcolata dividendo la somma delle loro frequenze per il numero totale di esperimenti (N).\n",
        "\n",
        "Le stime per i parametri $\\alpha$ e $\\beta$ vengono poi derivate come la radice quadrata delle probabilità di ottenere 0 o 1 (rispettivamente). Questo passaggio riflette la relazione tra probabilità e ampiezze di probabilità in meccanica quantistica, dove la probabilità di uno stato quantistico è proporzionale al quadrato del modulo della sua ampiezza.\n",
        "\n",
        "Per verificare la compatibilità di $\\alpha$ e $\\beta$ ottenuti dalla simulazione con i valori teorici corrispondenti, si calcolano gli errori standard $\\sigma_\\alpha$ e $\\sigma_\\beta$ come:\n",
        "\n",
        "$\\sigma_\\alpha= \\frac{\\sigma_{p_0}}{2\\sqrt{p_0}}= \\frac{1}{2\\sqrt{p_0}}\\sqrt{\\frac{p_0(1-p_0)}{N}}= \\frac{\\sqrt{1-p_0}}{2\\sqrt{N}}$\n",
        "\n",
        "dove l'errore standard sulla stima di $p_0$ è calcolato utilizzando la formula per l'errore standard di una binomiale.\n",
        "Analogamente si ha:\n",
        "\n",
        "$\\sigma_\\beta= \\frac{\\sqrt{1-p_1}}{2\\sqrt{N}}$\n",
        "\n",
        "Gli intervalli di compatibilità per $\\alpha$ e $\\beta$ sono ottenuti approssimando ad un intervallo di confidenza di 3σ secondo la regola della distribuzione normale.\n",
        "Questi intervalli sono confrontati con i valori teorici attesi, permettendo una valutazione della coerenza e dell'accuratezza dei risultati ottenuti dall'esperimento."
      ],
      "metadata": {
        "id": "bA74odc9RqLw"
      }
    },
    {
      "cell_type": "code",
      "source": [
        "total_shots = sum(counts.values())\n",
        "prob_0 = counts.get('000', 0) + counts.get('001', 0) + counts.get('010', 0) + counts.get('011', 0)\n",
        "prob_1 = counts.get('100', 0) + counts.get('101', 0) + counts.get('110', 0) + counts.get('111', 0)\n",
        "\n",
        "# Calcolo delle probabilità normalizzate\n",
        "p_0 = prob_0 / total_shots\n",
        "p_1 = prob_1 / total_shots\n",
        "\n",
        "# Stima dei valori di alpha e beta in base alle probabilità calcolate\n",
        "print(f\"Alpha stimato: {sqrt(p_0)}\")\n",
        "print(f\"Beta stimato: {sqrt(p_1)}\")\n",
        "\n",
        "# Calcolo dell'errore statistico per alpha e beta\n",
        "e_a = (sqrt(1-p_0))/(2*sqrt(1024))\n",
        "e_b = (sqrt(1-p_1))/(2*sqrt(1024))\n",
        "\n",
        "# Stampa degli errori statistici calcolati\n",
        "print(f\"L'errore statistico di alpha e' {e_a}\")\n",
        "print(f\"L'errore statistico di beta e' {e_b}\")\n",
        "\n",
        "# Calcolo e stampa degli intervalli di compatibilità per alpha e beta\n",
        "print(f\"Intervalli di compatibilità: \")\n",
        "print(f\"Alpha: [{sqrt(p_0)-3*e_a},{sqrt(p_0)+3*e_a}] con alpha teorico: {sqrt(0.9)}\")\n",
        "print(f\"Beta: [{sqrt(p_1)-3*e_b},{sqrt(p_1)+3*e_b}] con beta teorico: {sqrt(0.1)}\")"
      ],
      "metadata": {
        "id": "ZAnvvXDdv9tm",
        "colab": {
          "base_uri": "https://localhost:8080/"
        },
        "outputId": "7b9adfa3-041c-4a7c-942c-f69c8de57de7"
      },
      "execution_count": 13,
      "outputs": [
        {
          "output_type": "stream",
          "name": "stdout",
          "text": [
            "Alpha stimato: 0.954532771831329\n",
            "Beta stimato: 0.2981060004427955\n",
            "L'errore statistico di alpha e' 0.00465790625691868\n",
            "L'errore statistico di beta e' 0.014914574559864516\n",
            "Intervalli di compatibilità: \n",
            "Alpha: [0.940559053060573,0.968506490602085] con alpha teorico: 0.9486832980505138\n",
            "Beta: [0.25336227676320194,0.34284972412238907] con beta teorico: 0.31622776601683794\n"
          ]
        }
      ]
    },
    {
      "cell_type": "markdown",
      "source": [
        "\n",
        "Per un'analisi più completa, vengono considerati separatamente i casi corrispondenti ai diversi valori ottenuti da Alice (000 e 100, 001 e 101, ...). Per ciascuno di questi casi è effettuata nuovamente la stima dei parametri $\\alpha$ e $\\beta$ ed è verificata la compatibilità degli stessi con i valori teorici.  \n",
        "La funzione visualizza le stime, gli errori statistici e i range di accettabilità per $\\alpha$ e $\\beta$, insieme ad un confronto con i valori teorici. Se vi è compatibilità viene stampato il messaggio \"Corretto\", altrimenti l'utente leggerà \"Fuori range\"."
      ],
      "metadata": {
        "id": "V0YRdeD37C5j"
      }
    },
    {
      "cell_type": "code",
      "source": [
        "# Funzione per stima di Alpha e Beta per ogni stato, con stimatori e intervalli di accettabilità\n",
        "def stima_alpha_beta(counts, stato_0, stato_1, alpha_teorico=None, beta_teorico=None):\n",
        "    print(f\"Stime di Alpha e Beta per gli stati {stato_0} e {stato_1}:\")\n",
        "    print()\n",
        "    # Calcolo del numero totale di misure\n",
        "    tot_shots = counts.get(stato_0, 0) + counts.get(stato_1, 0)\n",
        "    if tot_shots == 0:\n",
        "        print(f\"Errore: Non ci sono conteggi per gli stati {stato_0} e {stato_1}.\")\n",
        "        return\n",
        "\n",
        "    # Calcolo delle probabilità\n",
        "    prob_0 = counts.get(stato_0, 0) / tot_shots\n",
        "    prob_1 = counts.get(stato_1, 0) / tot_shots\n",
        "\n",
        "    # Stima di alpha e beta per i singoli stati\n",
        "    stima_alpha = sqrt(prob_0)\n",
        "    stima_beta = sqrt(prob_1)\n",
        "\n",
        "    # Calcolo degli errori\n",
        "    errore_alpha = (sqrt(1 - prob_0)) / (2 * sqrt(tot_shots))\n",
        "    errore_beta = (sqrt(1 - prob_1)) / (2 * sqrt(tot_shots))\n",
        "\n",
        "    # Calcolo dei range di accettabilità\n",
        "    range_alpha_inferiore = stima_alpha - 3 * errore_alpha\n",
        "    range_alpha_superiore = stima_alpha + 3 * errore_alpha\n",
        "    range_beta_inferiore = stima_beta - 3 * errore_beta\n",
        "    range_beta_superiore = stima_beta + 3 * errore_beta\n",
        "\n",
        "    # Output della stima di Alpha\n",
        "    print(f\"Stima di Alpha {stato_0}: {stima_alpha:.5f}\")\n",
        "    print(f\"Errore statistico di Alpha: {errore_alpha:.5f}\")\n",
        "    print(f\"Range di accettabilità per Alpha ({stato_0}): [{range_alpha_inferiore:.5f}, {range_alpha_superiore:.5f}]\")\n",
        "    # Confronto con i valori teorici\n",
        "    if alpha_teorico is not None:\n",
        "        in_range_alpha = range_alpha_inferiore <= alpha_teorico <= range_alpha_superiore\n",
        "        print(f\"Valore teorico di Alpha: {alpha_teorico:.5f}\")\n",
        "        print(f\"Verifica di Alpha: {'Corretto' if in_range_alpha else 'Fuori range'}\")\n",
        "\n",
        "    # Output della stima di Beta\n",
        "    print(f\"\\nStima di Beta {stato_1}: {stima_beta:.5f}\")\n",
        "    print(f\"Errore statistico di Beta: {errore_beta:.5f}\")\n",
        "    print(f\"Range di accettabilità per Beta ({stato_1}): [{range_beta_inferiore:.5f}, {range_beta_superiore:.5f}]\")\n",
        "    # Confronto con i valori teorici\n",
        "    if beta_teorico is not None:\n",
        "        in_range_beta = range_beta_inferiore <= beta_teorico <= range_beta_superiore\n",
        "        print(f\"Valore teorico di Beta: {beta_teorico:.5f}\")\n",
        "        print(f\"Verifica di Beta: {'Corretto' if in_range_beta else 'Fuori range'}\")\n",
        "    print(f\"****************************************************************\")\n",
        "    print()\n",
        "\n",
        "# Risultati delle misurazioni\n",
        "counts = qasm_result.get_counts()\n",
        "\n",
        "# Valori teorici (se conosciuti)\n",
        "alpha_teorico = sqrt(0.9)\n",
        "beta_teorico = sqrt(0.1)\n",
        "\n",
        "# Stima per vari stati\n",
        "stima_alpha_beta(counts, '000', '100', alpha_teorico, beta_teorico)\n",
        "stima_alpha_beta(counts, '001', '101', alpha_teorico, beta_teorico)\n",
        "stima_alpha_beta(counts, '010', '110', alpha_teorico, beta_teorico)\n",
        "stima_alpha_beta(counts, '011', '111', alpha_teorico, beta_teorico)"
      ],
      "metadata": {
        "id": "D7lo_wD67FBl",
        "outputId": "651fc952-5748-4a53-d2b9-966869fc428a",
        "colab": {
          "base_uri": "https://localhost:8080/"
        }
      },
      "execution_count": 14,
      "outputs": [
        {
          "output_type": "stream",
          "name": "stdout",
          "text": [
            "Stime di Alpha e Beta per gli stati 000 e 100:\n",
            "\n",
            "Stima di Alpha 000: 0.95827\n",
            "Errore statistico di Alpha: 0.00892\n",
            "Range di accettabilità per Alpha (000): [0.93153, 0.98502]\n",
            "Valore teorico di Alpha: 0.94868\n",
            "Verifica di Alpha: Corretto\n",
            "\n",
            "Stima di Beta 100: 0.28585\n",
            "Errore statistico di Beta: 0.02989\n",
            "Range di accettabilità per Beta (100): [0.19619, 0.37552]\n",
            "Valore teorico di Beta: 0.31623\n",
            "Verifica di Beta: Corretto\n",
            "****************************************************************\n",
            "\n",
            "Stime di Alpha e Beta per gli stati 001 e 101:\n",
            "\n",
            "Stima di Alpha 001: 0.95987\n",
            "Errore statistico di Alpha: 0.00858\n",
            "Range di accettabilità per Alpha (001): [0.93412, 0.98561]\n",
            "Valore teorico di Alpha: 0.94868\n",
            "Verifica di Alpha: Corretto\n",
            "\n",
            "Stima di Beta 101: 0.28045\n",
            "Errore statistico di Beta: 0.02937\n",
            "Range di accettabilità per Beta (101): [0.19233, 0.36856]\n",
            "Valore teorico di Beta: 0.31623\n",
            "Verifica di Beta: Corretto\n",
            "****************************************************************\n",
            "\n",
            "Stime di Alpha e Beta per gli stati 010 e 110:\n",
            "\n",
            "Stima di Alpha 010: 0.95600\n",
            "Errore statistico di Alpha: 0.00939\n",
            "Range di accettabilità per Alpha (010): [0.92783, 0.98417]\n",
            "Valore teorico di Alpha: 0.94868\n",
            "Verifica di Alpha: Corretto\n",
            "\n",
            "Stima di Beta 110: 0.29337\n",
            "Errore statistico di Beta: 0.03060\n",
            "Range di accettabilità per Beta (110): [0.20157, 0.38517]\n",
            "Valore teorico di Beta: 0.31623\n",
            "Verifica di Beta: Corretto\n",
            "****************************************************************\n",
            "\n",
            "Stime di Alpha e Beta per gli stati 011 e 111:\n",
            "\n",
            "Stima di Alpha 011: 0.94373\n",
            "Errore statistico di Alpha: 0.01033\n",
            "Range di accettabilità per Alpha (011): [0.91272, 0.97473]\n",
            "Valore teorico di Alpha: 0.94868\n",
            "Verifica di Alpha: Corretto\n",
            "\n",
            "Stima di Beta 111: 0.33072\n",
            "Errore statistico di Beta: 0.02949\n",
            "Range di accettabilità per Beta (111): [0.24224, 0.41919]\n",
            "Valore teorico di Beta: 0.31623\n",
            "Verifica di Beta: Corretto\n",
            "****************************************************************\n",
            "\n"
          ]
        }
      ]
    },
    {
      "cell_type": "markdown",
      "source": [
        "### Conclusioni\n",
        "\n",
        "\n",
        "Attraverso l'analisi statistica e il confronto dei risultati ottenuti con le previsioni teoriche, è possibile valutare l'efficacia del protocollo di teletrasporto quantistico implementato.\n",
        "\n",
        "Il teletrasporto quantistico è una tecnica potente che consente di trasferire informazioni quantistiche senza la necessità di trasmettere fisicamente il qubit. Il concetto di entanglement è fondamentale per questo processo, poiché permette a due qubit di condividere un legame quantistico che può essere utilizzato per il trasferimento sicuro delle informazioni. Questo meccanismo ha potenziali implicazioni di grande rilievo per la crittografia quantistica.\n",
        "\n",
        "Sebbene il programma simulato rappresenti un caso ideale, è importante riconoscere le sfide pratiche nell'implementazione del teletrasporto quantistico su hardware reale. Fattori come l'instabilità dei sistemi quantistici (ad esempio, bit flip ed errori di fase) e eventuali errori di misurazione devono essere attentamente gestiti per garantire il corretto funzionamento del protocollo. Tuttavia, le simulazioni condotte con strumenti come Qiskit forniscono un prezioso punto di partenza per comprendere queste tecnologie emergenti, offrendo una base solida per future applicazioni pratiche nel campo della computazione e della crittografia quantistica.\n"
      ],
      "metadata": {
        "id": "sPA7P240PTlc"
      }
    }
  ]
}